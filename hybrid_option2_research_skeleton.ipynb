{
 "cells": [
  {
   "cell_type": "markdown",
   "id": "bfb6c090",
   "metadata": {},
   "source": [
    "# Hybrid pipeline (Option 2) — Research-grade skeleton\n",
    "\n",
    "KAN → VQE → Krylov/SBQD → FFT → QPE\n",
    "\n",
    "This notebook is a modular research-grade skeleton for Colab/QBraid. It includes hardware-ready builders and placeholders for runtime submission. It is intended for extension and experimentation."
   ]
  },
  {
   "cell_type": "markdown",
   "id": "c6df74f2",
   "metadata": {},
   "source": [
    "## Setup: install & imports"
   ]
  },
  {
   "cell_type": "code",
   "execution_count": null,
   "id": "f72e7713",
   "metadata": {},
   "outputs": [],
   "source": [
    "!pip install --quiet qiskit qiskit-aer qiskit-ibm-runtime torch scipy numpy matplotlib nbformat"
   ]
  },
  {
   "cell_type": "code",
   "execution_count": null,
   "id": "38a58ce7",
   "metadata": {},
   "outputs": [],
   "source": [
    "import os, json, math, time\n",
    "import numpy as np\n",
    "import torch\n",
    "from torch import nn\n",
    "from scipy.linalg import expm, eig, fractional_matrix_power\n",
    "from scipy.signal import find_peaks\n",
    "import matplotlib.pyplot as plt\n",
    "\n",
    "from qiskit import QuantumCircuit\n",
    "from qiskit_aer import AerSimulator\n",
    "from qiskit.primitives import Estimator\n",
    "from qiskit.quantum_info import Operator, SparsePauliOp\n",
    "from qiskit.extensions import UnitaryGate\n",
    "from qiskit.algorithms.optimizers import COBYLA\n",
    "\n",
    "try:\n",
    "    from qiskit_ibm_runtime import QiskitRuntimeService, EstimatorV2 as RuntimeEstimator, SamplerV2 as RuntimeSampler\n",
    "    print('Runtime available')\n",
    "except Exception:\n",
    "    QiskitRuntimeService = None\n",
    "    RuntimeEstimator = None\n",
    "    RuntimeSampler = None\n",
    "    print('Runtime not available; defaulting to local simulation')"
   ]
  },
  {
   "cell_type": "markdown",
   "id": "5b7ced74",
   "metadata": {},
   "source": [
    "## Build Hamiltonian & Pauli decomposition"
   ]
  },
  {
   "cell_type": "code",
   "execution_count": null,
   "id": "d0ba3026",
   "metadata": {},
   "outputs": [],
   "source": [
    "# Build H_small (adjust N_TRUNC for research)\n",
    "N_TRUNC = 10\n",
    "N_QUBITS = int(np.ceil(np.log2(N_TRUNC)))\n",
    "DIM = 2**N_QUBITS\n",
    "\n",
    "def ladder_ops(N):\n",
    "    a = np.zeros((N,N), dtype=complex)\n",
    "    for n in range(N-1):\n",
    "        a[n,n+1] = np.sqrt(n+1)\n",
    "    return a, a.conj().T\n",
    "\n",
    "a, adag = ladder_ops(N_TRUNC)\n",
    "x = (a+adag)/np.sqrt(2)\n",
    "p = 1j*(adag - a)/np.sqrt(2)\n",
    "H_small = 0.5*(x@p + p@x)\n",
    "H_small = 0.5*(H_small + H_small.conj().T)\n",
    "H_pad = np.zeros((DIM,DIM), dtype=complex)\n",
    "H_pad[:N_TRUNC, :N_TRUNC] = H_small\n",
    "H_op = Operator(H_pad)\n",
    "print('Built H with N_TRUNC=', N_TRUNC)"
   ]
  },
  {
   "cell_type": "markdown",
   "id": "6d1b27bf",
   "metadata": {},
   "source": [
    "## Pauli decomposition and Trotter builder (caution: scales as 4^n)"
   ]
  },
  {
   "cell_type": "code",
   "execution_count": null,
   "id": "46205a40",
   "metadata": {},
   "outputs": [],
   "source": [
    "from qiskit.quantum_info import SparsePauliOp\n",
    "paulis = ['I','X','Y','Z']\n",
    "pauli_terms = []\n",
    "for idx in range(4**N_QUBITS):\n",
    "    label = ''\n",
    "    tmp = idx\n",
    "    for _ in range(N_QUBITS):\n",
    "        label = paulis[tmp % 4] + label\n",
    "        tmp //= 4\n",
    "    sp = SparsePauliOp.from_list([(label,1.0)])\n",
    "    mat = sp.to_matrix()\n",
    "    c = np.trace(mat.conj().T @ H_pad) / (2**N_QUBITS)\n",
    "    if abs(c) > 1e-12:\n",
    "        pauli_terms.append((label, float(c)))\n",
    "print('Nonzero Pauli terms:', len(pauli_terms))\n",
    "\n",
    "def pauli_term_to_exp_circ(label, angle):\n",
    "    qc = QuantumCircuit(N_QUBITS)\n",
    "    for q, p in enumerate(reversed(label)):\n",
    "        if p == 'X': qc.h(q)\n",
    "        elif p == 'Y': qc.sdg(q); qc.h(q)\n",
    "    for q in range(1, N_QUBITS): qc.cx(q, 0)\n",
    "    qc.rz(2*angle, 0)\n",
    "    for q in range(1, N_QUBITS): qc.cx(q, 0)\n",
    "    for q, p in enumerate(reversed(label)):\n",
    "        if p == 'X': qc.h(q)\n",
    "        elif p == 'Y': qc.h(q); qc.s(q)\n",
    "    return qc\n",
    "\n",
    "def trotter_controlled(pauli_terms, t, r):\n",
    "    qc = QuantumCircuit(1 + N_QUBITS)\n",
    "    dt = t / r\n",
    "    for _ in range(r):\n",
    "        for label, coeff in pauli_terms:\n",
    "            angle = coeff * dt\n",
    "            base = pauli_term_to_exp_circ(label, angle)\n",
    "            qc.append(base.to_gate().control(1), [0] + list(range(1,1+N_QUBITS)))\n",
    "    return qc\n",
    "\n",
    "print('Trotter builder ready')"
   ]
  },
  {
   "cell_type": "markdown",
   "id": "fb66ddbd",
   "metadata": {},
   "source": [
    "## KAN + VQE (research)\n",
    "\n",
    "Reuse the KAN surrogate and Estimator patterns from Option 1, but increase budgets and logging for research experiments."
   ]
  },
  {
   "cell_type": "code",
   "execution_count": null,
   "id": "465f8f6c",
   "metadata": {},
   "outputs": [],
   "source": [
    "class KANSurrogate(nn.Module):\n",
    "    def __init__(self, in_dim, m_units=4*in_dim, uni_hidden=16):\n",
    "        super().__init__()\n",
    "        self.inner = nn.Linear(in_dim, m_units)\n",
    "        self.uni_w = nn.Parameter(torch.randn(m_units, uni_hidden) * 0.01)\n",
    "        self.uni_b = nn.Parameter(torch.zeros(m_units, uni_hidden))\n",
    "        self.uni_out = nn.Parameter(torch.randn(m_units) * 0.01)\n",
    "        self.outer = nn.Linear(m_units, 1)\n",
    "    def forward(self, x):\n",
    "        z = self.inner(x)\n",
    "        z_exp = z.unsqueeze(-1)\n",
    "        hidden = torch.tanh(z_exp * self.uni_w.unsqueeze(0) + self.uni_b.unsqueeze(0))\n",
    "        hid_mean = hidden.mean(dim=-1)\n",
    "        uni = hid_mean * self.uni_out.unsqueeze(0)\n",
    "        out = self.outer(uni)\n",
    "        return out.squeeze(-1)\n",
    "\n",
    "sim = AerSimulator(method='statevector')\n",
    "est = Estimator(sim)\n",
    "\n",
    "n_params = 2 * N_QUBITS\n",
    "print('KAN+VQE building blocks ready')"
   ]
  },
  {
   "cell_type": "markdown",
   "id": "9005c9fd",
   "metadata": {},
   "source": [
    "## SBQD / Krylov measurement on hardware — SWAP and Hadamard tests (skeleton)"
   ]
  },
  {
   "cell_type": "code",
   "execution_count": null,
   "id": "e1c61dd9",
   "metadata": {},
   "outputs": [],
   "source": [
    "def hadamard_test(prep_circ, unitary_circ, measure_imag=False):\n",
    "    qc = QuantumCircuit(1 + N_QUBITS, 1)\n",
    "    qc.h(0)\n",
    "    if measure_imag: qc.sdg(0)\n",
    "    qc.compose(prep_circ, qubits=list(range(1,1+N_QUBITS)), inplace=True)\n",
    "    qc.append(unitary_circ.to_gate().control(1), [0] + list(range(1,1+N_QUBITS)))\n",
    "    qc.h(0)\n",
    "    qc.measure(0,0)\n",
    "    return qc\n",
    "\n",
    "print('Hadamard-test skeleton ready')"
   ]
  },
  {
   "cell_type": "markdown",
   "id": "0e869753",
   "metadata": {},
   "source": [
    "## FFT step & QPE skeleton (research)"
   ]
  },
  {
   "cell_type": "code",
   "execution_count": null,
   "id": "62405198",
   "metadata": {},
   "outputs": [],
   "source": [
    "def compute_time_series_statevector(psi0, U_step, n_time=256):\n",
    "    C = np.zeros(n_time, dtype=complex)\n",
    "    cur = psi0.copy()\n",
    "    for n in range(n_time):\n",
    "        C[n] = np.vdot(psi0, cur)\n",
    "        cur = U_step @ cur\n",
    "    return C\n",
    "\n",
    "print('FFT & QPE helpers ready')"
   ]
  },
  {
   "cell_type": "markdown",
   "id": "472660a2",
   "metadata": {},
   "source": [
    "## Next steps and how to run on hardware\n",
    "\n",
    "1. Fill in the active KAN training loop similar to Option 1 but with larger budgets.\n",
    "2. Use the `trotter_controlled` builder to create controlled-evolution blocks for QPE; decompose to backend basis.\n",
    "3. For SBQD on hardware, build Hadamard-test or SWAP-test circuits to estimate overlaps; manage job batching.\n",
    "4. Use `qiskit_ibm_runtime` EstimatorV2/SamplerV2 for efficient execution and session reuse.\n",
    "\n",
    "This notebook is a starting point — further automation (job batching, readout calibration, ZNE) can be added."
   ]
  }
 ],
 "metadata": {},
 "nbformat": 4,
 "nbformat_minor": 5
}
